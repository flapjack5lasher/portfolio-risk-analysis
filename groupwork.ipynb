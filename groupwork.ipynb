{
 "cells": [
  {
   "cell_type": "markdown",
   "id": "8b56d86d",
   "metadata": {},
   "source": [
    "# Asset Pricing and Portfolio Management #"
   ]
  },
  {
   "cell_type": "markdown",
   "id": "4a032751",
   "metadata": {},
   "source": [
    "Suppose that an investor owns, on September 25th, 2008 a portfolio worth \\\\$10 million consisting of\n",
    "investments in four stock indices: Dow Jones Industrial Average (DJIA) in the United States, the FTSE\n",
    "100 in the United Kingdom, the CAC 40 in France, and the Nikkei 225 in Japan. So, let’s suppose that today is September 25th, 2008.\n",
    "The value of the investment in each index on September 25, 2008, is (in \\\\$ 000s): \\\\$4000 in DJIA, \\\\$3000\n",
    "in FTSE, \\\\$1000 in CAC and \\$2000 in NIKKEI."
   ]
  },
  {
   "cell_type": "markdown",
   "id": "7be1e08c",
   "metadata": {},
   "source": [
    "## Question 1 : Using a GARCH model (1,1), estimate the tomorrow's volatility of each of the four indices. Compare the values obtained. Is the result in line with your expectations ? ##\n",
    "\n"
   ]
  },
  {
   "cell_type": "markdown",
   "id": "a1420578",
   "metadata": {},
   "source": [
    "The $garch(p,q)$ model calculates the daily volatility forecast from the $p$ most recent observations $u$\n",
    "and the $q$ most recent variances $\\sigma^2$ :\n",
    "\n",
    "$$ \\sigma_t^2 = \\omega + \\sum_{i=0}^{p}\\alpha_i u_{t-i}^2 + \\sum_{i=0}^{q}\\beta_i \\sigma_{t-i}^2$$\n",
    "\n",
    "$$ \\sigma_t^2 = \\omega + \\alpha_0 u_t^2 + \\alpha_1 u_{t-1}^2 + ... + \\alpha_p u_{t-p}^2 + \\beta_0 \\sigma_t^2 + \\beta_1 \\sigma_{t-1}^2 + ... + \\beta_q \\sigma_{t-q}^2$$"
   ]
  },
  {
   "cell_type": "markdown",
   "id": "bce8dd17",
   "metadata": {},
   "source": [
    "With the simplest and most popular $garch(1,1)$ model : \\\n",
    "$$ \\sigma_t^2 = \\omega + \\alpha u_{t-1}^2 + \\beta \\sigma_{t-1}^2 $$\n",
    "with :\n",
    "* $u_{t-1}$ the market latest news\n",
    "* $\\sigma_{t-1}$ the lastest standard deviation"
   ]
  },
  {
   "cell_type": "code",
   "execution_count": 144,
   "id": "bc481543",
   "metadata": {},
   "outputs": [],
   "source": [
    "import matplotlib.pyplot as plt\n",
    "import numpy as np\n",
    "import pandas as pd\n",
    "from arch.univariate import arch_model\n",
    "import datetime"
   ]
  },
  {
   "cell_type": "code",
   "execution_count": 145,
   "id": "8c2710d1",
   "metadata": {},
   "outputs": [
    {
     "data": {
      "text/html": [
       "<div>\n",
       "<style scoped>\n",
       "    .dataframe tbody tr th:only-of-type {\n",
       "        vertical-align: middle;\n",
       "    }\n",
       "\n",
       "    .dataframe tbody tr th {\n",
       "        vertical-align: top;\n",
       "    }\n",
       "\n",
       "    .dataframe thead th {\n",
       "        text-align: right;\n",
       "    }\n",
       "</style>\n",
       "<table border=\"1\" class=\"dataframe\">\n",
       "  <thead>\n",
       "    <tr style=\"text-align: right;\">\n",
       "      <th></th>\n",
       "      <th>DJIA</th>\n",
       "      <th>FTSE-500</th>\n",
       "      <th>CAC-40</th>\n",
       "      <th>Nikkei</th>\n",
       "    </tr>\n",
       "    <tr>\n",
       "      <th>Day</th>\n",
       "      <th></th>\n",
       "      <th></th>\n",
       "      <th></th>\n",
       "      <th></th>\n",
       "    </tr>\n",
       "  </thead>\n",
       "  <tbody>\n",
       "    <tr>\n",
       "      <th>0</th>\n",
       "      <td>11219.38</td>\n",
       "      <td>11131.84224</td>\n",
       "      <td>6373.894033</td>\n",
       "      <td>131.774435</td>\n",
       "    </tr>\n",
       "    <tr>\n",
       "      <th>1</th>\n",
       "      <td>11173.59</td>\n",
       "      <td>11096.28032</td>\n",
       "      <td>6378.161510</td>\n",
       "      <td>134.381821</td>\n",
       "    </tr>\n",
       "    <tr>\n",
       "      <th>2</th>\n",
       "      <td>11076.18</td>\n",
       "      <td>11185.35030</td>\n",
       "      <td>6474.040196</td>\n",
       "      <td>135.943301</td>\n",
       "    </tr>\n",
       "    <tr>\n",
       "      <th>3</th>\n",
       "      <td>11124.37</td>\n",
       "      <td>11016.70812</td>\n",
       "      <td>6357.485948</td>\n",
       "      <td>135.438090</td>\n",
       "    </tr>\n",
       "    <tr>\n",
       "      <th>4</th>\n",
       "      <td>11088.02</td>\n",
       "      <td>11040.72970</td>\n",
       "      <td>6364.764458</td>\n",
       "      <td>134.100284</td>\n",
       "    </tr>\n",
       "    <tr>\n",
       "      <th>...</th>\n",
       "      <td>...</td>\n",
       "      <td>...</td>\n",
       "      <td>...</td>\n",
       "      <td>...</td>\n",
       "    </tr>\n",
       "    <tr>\n",
       "      <th>496</th>\n",
       "      <td>11019.69</td>\n",
       "      <td>8878.18400</td>\n",
       "      <td>5689.850489</td>\n",
       "      <td>109.547101</td>\n",
       "    </tr>\n",
       "    <tr>\n",
       "      <th>497</th>\n",
       "      <td>11388.44</td>\n",
       "      <td>9734.01951</td>\n",
       "      <td>6230.005762</td>\n",
       "      <td>111.618539</td>\n",
       "    </tr>\n",
       "    <tr>\n",
       "      <th>498</th>\n",
       "      <td>11015.69</td>\n",
       "      <td>9656.26083</td>\n",
       "      <td>6181.952576</td>\n",
       "      <td>113.228975</td>\n",
       "    </tr>\n",
       "    <tr>\n",
       "      <th>499</th>\n",
       "      <td>10825.17</td>\n",
       "      <td>9438.57988</td>\n",
       "      <td>6033.934595</td>\n",
       "      <td>114.260398</td>\n",
       "    </tr>\n",
       "    <tr>\n",
       "      <th>500</th>\n",
       "      <td>11022.06</td>\n",
       "      <td>9599.89840</td>\n",
       "      <td>6200.396069</td>\n",
       "      <td>112.822120</td>\n",
       "    </tr>\n",
       "  </tbody>\n",
       "</table>\n",
       "<p>501 rows × 4 columns</p>\n",
       "</div>"
      ],
      "text/plain": [
       "         DJIA     FTSE-500       CAC-40      Nikkei\n",
       "Day                                                \n",
       "0    11219.38  11131.84224  6373.894033  131.774435\n",
       "1    11173.59  11096.28032  6378.161510  134.381821\n",
       "2    11076.18  11185.35030  6474.040196  135.943301\n",
       "3    11124.37  11016.70812  6357.485948  135.438090\n",
       "4    11088.02  11040.72970  6364.764458  134.100284\n",
       "..        ...          ...          ...         ...\n",
       "496  11019.69   8878.18400  5689.850489  109.547101\n",
       "497  11388.44   9734.01951  6230.005762  111.618539\n",
       "498  11015.69   9656.26083  6181.952576  113.228975\n",
       "499  10825.17   9438.57988  6033.934595  114.260398\n",
       "500  11022.06   9599.89840  6200.396069  112.822120\n",
       "\n",
       "[501 rows x 4 columns]"
      ]
     },
     "execution_count": 145,
     "metadata": {},
     "output_type": "execute_result"
    }
   ],
   "source": [
    "indexes    = pd.read_excel('stock_indexes.xls','for_python',index_col=0)\n",
    "portfolio  = [4000,3000,1000,2000]\n",
    "indexes"
   ]
  },
  {
   "cell_type": "code",
   "execution_count": 157,
   "id": "7f451e21",
   "metadata": {},
   "outputs": [],
   "source": [
    "# We start with the calculation of returns (we have the index LEVELS and not the returns)\n",
    "returns = indexes.apply(pd.DataFrame.pct_change).dropna()\n",
    "\n",
    "# We use normalized returns for the GARCH model to focus on the variance\n",
    "normalized_returns = returns - np.mean(returns)"
   ]
  },
  {
   "cell_type": "code",
   "execution_count": 158,
   "id": "e2c6f54f",
   "metadata": {},
   "outputs": [
    {
     "name": "stdout",
     "output_type": "stream",
     "text": [
      "Iteration:      1,   Func. Count:      5,   Neg. LLF: 269383.28894731007\n",
      "Iteration:      2,   Func. Count:     11,   Neg. LLF: 701.4429284931334\n",
      "Iteration:      3,   Func. Count:     16,   Neg. LLF: 2424.8164589137905\n",
      "Iteration:      4,   Func. Count:     21,   Neg. LLF: 806.0475930615592\n",
      "Iteration:      5,   Func. Count:     26,   Neg. LLF: 700.0291007477424\n",
      "Iteration:      6,   Func. Count:     31,   Neg. LLF: 268951.13036775636\n",
      "Iteration:      7,   Func. Count:     38,   Neg. LLF: 700.84774721865\n",
      "Iteration:      8,   Func. Count:     43,   Neg. LLF: 1082.8148780953195\n",
      "Iteration:      9,   Func. Count:     48,   Neg. LLF: 694.9524199734253\n",
      "Iteration:     10,   Func. Count:     53,   Neg. LLF: 689.9671603400541\n",
      "Iteration:     11,   Func. Count:     57,   Neg. LLF: 689.6884700339114\n",
      "Iteration:     12,   Func. Count:     61,   Neg. LLF: 689.6826324945141\n",
      "Iteration:     13,   Func. Count:     65,   Neg. LLF: 689.6810553802809\n",
      "Iteration:     14,   Func. Count:     69,   Neg. LLF: 1922.7461717785827\n",
      "Iteration:     15,   Func. Count:     79,   Neg. LLF: 689.8009654003046\n",
      "Optimization terminated successfully    (Exit mode 0)\n",
      "            Current function value: 689.6810535127235\n",
      "            Iterations: 17\n",
      "            Function evaluations: 83\n",
      "            Gradient evaluations: 15\n",
      "                       Zero Mean - GARCH Model Results                        \n",
      "==============================================================================\n",
      "Dep. Variable:                      y   R-squared:                       0.000\n",
      "Mean Model:                 Zero Mean   Adj. R-squared:                  0.002\n",
      "Vol Model:                      GARCH   Log-Likelihood:               -689.681\n",
      "Distribution:                  Normal   AIC:                           1385.36\n",
      "Method:            Maximum Likelihood   BIC:                           1398.01\n",
      "                                        No. Observations:                  500\n",
      "Date:                Sat, Sep 24 2022   Df Residuals:                      497\n",
      "Time:                        12:36:06   Df Model:                            3\n",
      "                               Volatility Model                              \n",
      "=============================================================================\n",
      "                 coef    std err          t      P>|t|       95.0% Conf. Int.\n",
      "-----------------------------------------------------------------------------\n",
      "omega      3.5933e-03  9.384e-03      0.383      0.702 [-1.480e-02,2.198e-02]\n",
      "alpha[1]       0.0226  2.910e-02      0.777      0.437 [-3.441e-02,7.965e-02]\n",
      "beta[1]        0.9774  4.015e-02     24.343 6.793e-131      [  0.899,  1.056]\n",
      "=============================================================================\n",
      "\n",
      "Covariance estimator: robust\n",
      "Iteration:      1,   Func. Count:      5,   Neg. LLF: 2515.5418784142275\n",
      "Iteration:      2,   Func. Count:     14,   Neg. LLF: 819.5334132341468\n",
      "Iteration:      3,   Func. Count:     19,   Neg. LLF: 797.2806802380792\n",
      "Iteration:      4,   Func. Count:     24,   Neg. LLF: 790.2650387977121\n",
      "Iteration:      5,   Func. Count:     28,   Neg. LLF: 790.3712937223756\n",
      "Iteration:      6,   Func. Count:     33,   Neg. LLF: 790.2441907196769\n",
      "Iteration:      7,   Func. Count:     38,   Neg. LLF: 790.2430501522565\n",
      "Iteration:      8,   Func. Count:     41,   Neg. LLF: 790.2430495548301\n",
      "Optimization terminated successfully    (Exit mode 0)\n",
      "            Current function value: 790.2430501522565\n",
      "            Iterations: 8\n",
      "            Function evaluations: 41\n",
      "            Gradient evaluations: 8\n",
      "                       Zero Mean - GARCH Model Results                        \n",
      "==============================================================================\n",
      "Dep. Variable:                      y   R-squared:                       0.000\n",
      "Mean Model:                 Zero Mean   Adj. R-squared:                  0.002\n",
      "Vol Model:                      GARCH   Log-Likelihood:               -790.243\n",
      "Distribution:                  Normal   AIC:                           1586.49\n",
      "Method:            Maximum Likelihood   BIC:                           1599.13\n",
      "                                        No. Observations:                  500\n",
      "Date:                Sat, Sep 24 2022   Df Residuals:                      497\n",
      "Time:                        12:36:07   Df Model:                            3\n",
      "                               Volatility Model                              \n",
      "=============================================================================\n",
      "                 coef    std err          t      P>|t|       95.0% Conf. Int.\n",
      "-----------------------------------------------------------------------------\n",
      "omega          0.0249  2.059e-02      1.211      0.226 [-1.543e-02,6.529e-02]\n",
      "alpha[1]       0.1627  4.263e-02      3.817  1.352e-04    [7.916e-02,  0.246]\n",
      "beta[1]        0.8373  4.565e-02     18.341  3.897e-75      [  0.748,  0.927]\n",
      "=============================================================================\n",
      "\n",
      "Covariance estimator: robust\n",
      "Iteration:      1,   Func. Count:      5,   Neg. LLF: 494088.6594260849\n",
      "Iteration:      2,   Func. Count:     11,   Neg. LLF: 915.7838089176047\n",
      "Iteration:      3,   Func. Count:     18,   Neg. LLF: 799.1211304991707\n",
      "Iteration:      4,   Func. Count:     22,   Neg. LLF: 799.620510980104\n",
      "Iteration:      5,   Func. Count:     27,   Neg. LLF: 875.8578570887162\n",
      "Iteration:      6,   Func. Count:     34,   Neg. LLF: 799.0639022722684\n",
      "Iteration:      7,   Func. Count:     38,   Neg. LLF: 799.0638899705226\n",
      "Iteration:      8,   Func. Count:     41,   Neg. LLF: 799.063889970467\n",
      "Optimization terminated successfully    (Exit mode 0)\n",
      "            Current function value: 799.0638899705226\n",
      "            Iterations: 8\n",
      "            Function evaluations: 41\n",
      "            Gradient evaluations: 8\n",
      "                       Zero Mean - GARCH Model Results                        \n",
      "==============================================================================\n",
      "Dep. Variable:                      y   R-squared:                       0.000\n",
      "Mean Model:                 Zero Mean   Adj. R-squared:                  0.002\n",
      "Vol Model:                      GARCH   Log-Likelihood:               -799.064\n",
      "Distribution:                  Normal   AIC:                           1604.13\n",
      "Method:            Maximum Likelihood   BIC:                           1616.77\n",
      "                                        No. Observations:                  500\n",
      "Date:                Sat, Sep 24 2022   Df Residuals:                      497\n",
      "Time:                        12:36:07   Df Model:                            3\n",
      "                               Volatility Model                              \n",
      "=============================================================================\n",
      "                 coef    std err          t      P>|t|       95.0% Conf. Int.\n",
      "-----------------------------------------------------------------------------\n",
      "omega          0.0253  2.045e-02      1.238      0.216 [-1.477e-02,6.540e-02]\n",
      "alpha[1]       0.1304  3.267e-02      3.992  6.545e-05    [6.639e-02,  0.194]\n",
      "beta[1]        0.8680  3.456e-02     25.118 3.169e-139      [  0.800,  0.936]\n",
      "=============================================================================\n",
      "\n",
      "Covariance estimator: robust\n",
      "Iteration:      1,   Func. Count:      5,   Neg. LLF: 1240.236410226374\n",
      "Iteration:      2,   Func. Count:     15,   Neg. LLF: 1154.397166658533\n",
      "Iteration:      3,   Func. Count:     21,   Neg. LLF: 901.6473401572973\n",
      "Iteration:      4,   Func. Count:     28,   Neg. LLF: 834.0680729647509\n",
      "Iteration:      5,   Func. Count:     32,   Neg. LLF: 834.0612157680425\n",
      "Iteration:      6,   Func. Count:     36,   Neg. LLF: 834.0610737422608\n",
      "Iteration:      7,   Func. Count:     40,   Neg. LLF: 834.0610703443177\n",
      "Iteration:      8,   Func. Count:     43,   Neg. LLF: 834.0610703443479\n",
      "Optimization terminated successfully    (Exit mode 0)\n",
      "            Current function value: 834.0610703443177\n",
      "            Iterations: 8\n",
      "            Function evaluations: 43\n",
      "            Gradient evaluations: 8\n",
      "                       Zero Mean - GARCH Model Results                        \n",
      "==============================================================================\n",
      "Dep. Variable:                      y   R-squared:                       0.000\n",
      "Mean Model:                 Zero Mean   Adj. R-squared:                  0.002\n",
      "Vol Model:                      GARCH   Log-Likelihood:               -834.061\n",
      "Distribution:                  Normal   AIC:                           1674.12\n",
      "Method:            Maximum Likelihood   BIC:                           1686.77\n",
      "                                        No. Observations:                  500\n",
      "Date:                Sat, Sep 24 2022   Df Residuals:                      497\n",
      "Time:                        12:36:07   Df Model:                            3\n",
      "                              Volatility Model                             \n",
      "===========================================================================\n",
      "                 coef    std err          t      P>|t|     95.0% Conf. Int.\n",
      "---------------------------------------------------------------------------\n",
      "omega          0.0637  3.703e-02      1.721  8.522e-02 [-8.843e-03,  0.136]\n",
      "alpha[1]       0.1343  7.059e-02      1.903  5.705e-02 [-4.027e-03,  0.273]\n",
      "beta[1]        0.8414  6.196e-02     13.580  5.271e-42    [  0.720,  0.963]\n",
      "===========================================================================\n",
      "\n",
      "Covariance estimator: robust\n"
     ]
    }
   ],
   "source": [
    "# p=1, q=1 : forecast lengths. Both at 1 for garch(1, 1)\n",
    "# o=0 : no integration (different from IGARCH)\n",
    "vol_long_run = dict()\n",
    "models = dict()\n",
    "\n",
    "for index in indexes.columns:\n",
    "    am = arch_model(100 * np.array(normalized_returns[index]), mean='zero',p=1, o=0, q=1, vol='GARCH')\n",
    "    models[index] = am.fit()\n",
    "    print(models[index].summary())\n",
    "    vol_long_run[index] = models[index].params['omega'] / (1 - models[index].params['alpha[1]'] - models[index].params['beta[1]'])\n",
    "    "
   ]
  },
  {
   "cell_type": "markdown",
   "id": "9f6f71fc",
   "metadata": {},
   "source": [
    "We check in the summaries that, for each index, the P values of the $\\omega$, $\\alpha$ and $\\beta$ parameters are acceptable, ie that for each : $(P>|z|) < 0.05$. It is not always the case here."
   ]
  },
  {
   "cell_type": "code",
   "execution_count": 159,
   "id": "801c13ab",
   "metadata": {},
   "outputs": [
    {
     "name": "stdout",
     "output_type": "stream",
     "text": [
      "omega       0.003593\n",
      "alpha[1]    0.022616\n",
      "beta[1]     0.977384\n",
      "Name: params, dtype: float64\n"
     ]
    }
   ],
   "source": [
    "print(models[\"DJIA\"].params)"
   ]
  },
  {
   "cell_type": "code",
   "execution_count": 160,
   "id": "75d1701b",
   "metadata": {},
   "outputs": [
    {
     "name": "stderr",
     "output_type": "stream",
     "text": [
      "/var/folders/0y/7yv8khv10d7fyvzwr9l2tbdh0000gn/T/ipykernel_483/3083902052.py:1: RuntimeWarning: invalid value encountered in sqrt\n",
      "  vol_daily = {index: np.sqrt(VL) for index, VL in vol_long_run.items()}\n"
     ]
    },
    {
     "data": {
      "text/plain": [
       "{'DJIA': nan,\n",
       " 'FTSE-500': 227226.66130758755,\n",
       " 'CAC-40': 3.9830300816118336,\n",
       " 'Nikkei': 1.6217056521106907}"
      ]
     },
     "execution_count": 160,
     "metadata": {},
     "output_type": "execute_result"
    }
   ],
   "source": [
    "vol_daily = {index: np.sqrt(VL) for index, VL in vol_long_run.items()}\n",
    "vol_daily"
   ]
  },
  {
   "cell_type": "code",
   "execution_count": 161,
   "id": "48c2a774",
   "metadata": {},
   "outputs": [
    {
     "name": "stdout",
     "output_type": "stream",
     "text": [
      "('DJIA',           h.1\n",
      "499  1.821636)\n",
      "('DJIA', 1.0000001031644883)\n",
      "('FTSE-500',           h.1\n",
      "499  3.936805)\n",
      "('FTSE-500', 0.9999999999995173)\n",
      "('CAC-40',           h.1\n",
      "499  3.718312)\n",
      "('CAC-40', 0.9984043568821671)\n",
      "('Nikkei',           h.1\n",
      "499  1.590302)\n",
      "('Nikkei', 0.9757622128517645)\n"
     ]
    }
   ],
   "source": [
    "for index in indexes.columns:\n",
    "    print((index, np.sqrt(models[index].forecast().variance[-1:])))\n",
    "    print((index, models[index].params['alpha[1]'] + models[index].params['beta[1]']))"
   ]
  },
  {
   "cell_type": "code",
   "execution_count": 162,
   "id": "f3ed7d70",
   "metadata": {},
   "outputs": [
    {
     "name": "stdout",
     "output_type": "stream",
     "text": [
      "DJIA:\n",
      " * omega = 0.0036, p-value = 0.7018 > 0.1 : the error margin is too high, the coefficient is dropped\n",
      " * alpha[1] = 0.0226, p-value = 0.4370 > 0.1 : the error margin is too high, the coefficient is dropped\n",
      " * beta[1] = 0.9774, p-value = 0.0000 < 0.1 : the error margin is low, the coefficient is significant\n",
      "FTSE-500:\n",
      " * omega = 0.0249, p-value = 0.2261 > 0.1 : the error margin is too high, the coefficient is dropped\n",
      " * alpha[1] = 0.1627, p-value = 0.0001 < 0.1 : the error margin is low, the coefficient is significant\n",
      " * beta[1] = 0.8373, p-value = 0.0000 < 0.1 : the error margin is low, the coefficient is significant\n",
      "CAC-40:\n",
      " * omega = 0.0253, p-value = 0.2158 > 0.1 : the error margin is too high, the coefficient is dropped\n",
      " * alpha[1] = 0.1304, p-value = 0.0001 < 0.1 : the error margin is low, the coefficient is significant\n",
      " * beta[1] = 0.8680, p-value = 0.0000 < 0.1 : the error margin is low, the coefficient is significant\n",
      "Nikkei:\n",
      " * omega = 0.0637, p-value = 0.0852 < 0.1 : the error margin is low, the coefficient is significant\n",
      " * alpha[1] = 0.1343, p-value = 0.0571 < 0.1 : the error margin is low, the coefficient is significant\n",
      " * beta[1] = 0.8414, p-value = 0.0000 < 0.1 : the error margin is low, the coefficient is significant\n"
     ]
    }
   ],
   "source": [
    "threshold = 0.1\n",
    "corrected_models = models\n",
    "\n",
    "for index in indexes.columns:\n",
    "    print(f\"{index}:\")\n",
    "    for i, param in enumerate(models[index].params.keys()):\n",
    "        if models[index].pvalues[i] < threshold :\n",
    "            print(f\" * {param} = {models[index].params[param]:.4f}, p-value = {models[index].pvalues[i]:.4f} < {threshold} : the error margin is low, the coefficient is significant\")\n",
    "        else :\n",
    "            print(f\" * {param} = {models[index].params[param]:.4f}, p-value = {models[index].pvalues[i]:.4f} > {threshold} : the error margin is too high, the coefficient is dropped\")\n",
    "            corrected_models[index].params[param] = 0\n",
    "\n",
    "corrected_vol_long_run = dict()\n",
    "for index in indexes.columns:\n",
    "    corrected_vol_long_run[index] = corrected_models[index].params['omega'] / (1 - corrected_models[index].params['alpha[1]'] - corrected_models[index].params['beta[1]'])\n"
   ]
  },
  {
   "cell_type": "code",
   "execution_count": 163,
   "id": "b04fe8cd",
   "metadata": {},
   "outputs": [
    {
     "data": {
      "text/plain": [
       "{'DJIA': 0.0, 'FTSE-500': 0.0, 'CAC-40': 0.0, 'Nikkei': 1.6217056521106907}"
      ]
     },
     "execution_count": 163,
     "metadata": {},
     "output_type": "execute_result"
    }
   ],
   "source": [
    "corrected_vol_daily = {index: np.sqrt(VL) for index, VL in corrected_vol_long_run.items()}\n",
    "corrected_vol_daily"
   ]
  },
  {
   "cell_type": "code",
   "execution_count": null,
   "id": "95cbd7e0",
   "metadata": {},
   "outputs": [],
   "source": []
  }
 ],
 "metadata": {
  "kernelspec": {
   "display_name": "Python 3 (ipykernel)",
   "language": "python",
   "name": "python3"
  },
  "language_info": {
   "codemirror_mode": {
    "name": "ipython",
    "version": 3
   },
   "file_extension": ".py",
   "mimetype": "text/x-python",
   "name": "python",
   "nbconvert_exporter": "python",
   "pygments_lexer": "ipython3",
   "version": "3.9.7"
  }
 },
 "nbformat": 4,
 "nbformat_minor": 5
}
